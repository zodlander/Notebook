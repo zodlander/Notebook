{
 "cells": [
  {
   "cell_type": "markdown",
   "id": "32c0c079",
   "metadata": {},
   "source": [
    "# Data Science Tools and Ecosystem"
   ]
  },
  {
   "cell_type": "markdown",
   "id": "f6d3896c",
   "metadata": {},
   "source": [
    "In this notebook, Data Science Tools and Ecosystem are summarized."
   ]
  },
  {
   "cell_type": "markdown",
   "id": "8e7aef59",
   "metadata": {},
   "source": [
    "**Objectives**\n",
    "* popular languages data scientists use\n",
    "* arithmetic expressions\n",
    "* common libraries "
   ]
  },
  {
   "cell_type": "markdown",
   "id": "700cc4db",
   "metadata": {},
   "source": [
    "Some of the popular languages that Data Scientist use are:\n",
    "1. python\n",
    "2. R\n",
    "3. Java"
   ]
  },
  {
   "cell_type": "markdown",
   "id": "11831b4f",
   "metadata": {},
   "source": [
    "Some of the commonly used libraries used by Data Scientists include:\n",
    "1. Pandas\n",
    "2. NumPy\n",
    "3. Matplotlib\n"
   ]
  },
  {
   "cell_type": "markdown",
   "id": "0d1eaa0f",
   "metadata": {},
   "source": [
    "| Data Science Tools       |\n",
    "|--------------------------|\n",
    "| Jupyter Notebook         |\n",
    "| RStudio                  |\n",
    "| Apache Zeppelin          |\n"
   ]
  },
  {
   "cell_type": "code",
   "execution_count": 18,
   "id": "5f89d995",
   "metadata": {},
   "outputs": [
    {
     "name": "stdout",
     "output_type": "stream",
     "text": [
      "12 \n",
      " 8 \n",
      " 16 \n",
      " 5.0\n"
     ]
    }
   ],
   "source": [
    "### Below are a few examples of evaluating arithmetic expressions in Python\n",
    "addition = 6+6\n",
    "subtraction = 10 - 2\n",
    "multiplication = 4*4\n",
    "division = 10 / 2\n",
    "\n",
    "print(addition,\"\\n\",subtraction,\"\\n\", multiplication, \"\\n\", division)\n"
   ]
  },
  {
   "cell_type": "code",
   "execution_count": 22,
   "id": "6d5e8cb4",
   "metadata": {},
   "outputs": [
    {
     "name": "stdout",
     "output_type": "stream",
     "text": [
      "17\n"
     ]
    }
   ],
   "source": [
    "#this is a simple expression to multiply then add ints\n",
    "expression = (3*4)+5\n",
    "print(expression)"
   ]
  },
  {
   "cell_type": "code",
   "execution_count": 28,
   "id": "422c1341",
   "metadata": {},
   "outputs": [
    {
     "name": "stdout",
     "output_type": "stream",
     "text": [
      "insert minutes200\n",
      "3.3333333333333335\n"
     ]
    }
   ],
   "source": [
    "#this will convert minutes to hours\n",
    "minutes = int(input(\"insert minutes\"))\n",
    "hours_to_minutes = minutes / 60\n",
    "print(hours_to_minutes)"
   ]
  },
  {
   "cell_type": "markdown",
   "id": "64c0b95d",
   "metadata": {},
   "source": [
    "## Author \n",
    "karlo"
   ]
  },
  {
   "cell_type": "code",
   "execution_count": null,
   "id": "bf9c8ffc",
   "metadata": {},
   "outputs": [],
   "source": []
  }
 ],
 "metadata": {
  "kernelspec": {
   "display_name": "Python 3 (ipykernel)",
   "language": "python",
   "name": "python3"
  },
  "language_info": {
   "codemirror_mode": {
    "name": "ipython",
    "version": 3
   },
   "file_extension": ".py",
   "mimetype": "text/x-python",
   "name": "python",
   "nbconvert_exporter": "python",
   "pygments_lexer": "ipython3",
   "version": "3.11.4"
  }
 },
 "nbformat": 4,
 "nbformat_minor": 5
}
